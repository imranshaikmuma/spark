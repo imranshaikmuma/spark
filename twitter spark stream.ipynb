{
 "cells": [
  {
   "cell_type": "code",
   "execution_count": null,
   "metadata": {},
   "outputs": [],
   "source": [
    "# create twitter app and get these below keys\n",
    "# Consumer Key (API Key) MFR5weqH5TkRohcHt8RBxkNxV \n",
    "# Consumer Secret (API Secret) ByLQhLwAvS90AS0DQgOZNJG1cl34pVtaCbjC2ZlNAqWUwnxpzv \n",
    "#  Access Token 2987356784-UvjGmrTrUZCvV9cf0mY0OzeJqicTgY17qSj3wEY \n",
    "#  Access Token Secret TbecI2TtTlEw5yqKeLHkCNOLCh8v0JjT9tm1ehEtXdyrR \n",
    "# install tweepy,matplotlib and seaborn(visualization library)"
   ]
  },
  {
   "cell_type": "code",
   "execution_count": null,
   "metadata": {},
   "outputs": [],
   "source": [
    "import tweepy\n",
    "from tweepy import OAuthHandler,Stream"
   ]
  },
  {
   "cell_type": "code",
   "execution_count": null,
   "metadata": {},
   "outputs": [],
   "source": [
    "from tweepy.streaming import StreamListener\n",
    "import socket\n",
    "import json"
   ]
  },
  {
   "cell_type": "code",
   "execution_count": null,
   "metadata": {},
   "outputs": [],
   "source": [
    "consumer_key='MFR5weqH5TkRohcHt8RBxkNxV'\n",
    "consumer_secret='ByLQhLwAvS90AS0DQgOZNJG1cl34pVtaCbjC2ZlNAqWUwnxpzv'\n",
    "access_token='2987356784-UvjGmrTrUZCvV9cf0mY0OzeJqicTgY17qSj3wEY'\n",
    "access_secret='TbecI2TtTlEw5yqKeLHkCNOLCh8v0JjT9tm1ehEtXdyrR'"
   ]
  },
  {
   "cell_type": "code",
   "execution_count": null,
   "metadata": {},
   "outputs": [],
   "source": [
    "class TweetListender(StreamListener):\n",
    "    def _init_(self,csocket):\n",
    "        self.client_socket = csocket\n",
    "    def on_data(self,data):\n",
    "        try:\n",
    "            msg=json.loads(data)\n",
    "            print(msg['text'].encode('utf-8'))\n",
    "            self.client_socket.send(msg['text'].encode('utf-8'))\n",
    "            return True\n",
    "        except BaseException as e:\n",
    "            print(\"error\",e)\n",
    "        return True\n",
    "    def on_error(self,status):\n",
    "        print(status)\n",
    "        return True"
   ]
  },
  {
   "cell_type": "code",
   "execution_count": null,
   "metadata": {},
   "outputs": [],
   "source": [
    "def sendData(c_socket):\n",
    "    auth=OAuthHandler(consumer_key,consumer_secret)\n",
    "    auth.set_access_token(access_token,access_secret)\n",
    "    twitter_stream=Stream(auth,TweetListener(c_socket))\n",
    "    twitter_stream.filter(track=['guitar'])"
   ]
  },
  {
   "cell_type": "code",
   "execution_count": null,
   "metadata": {},
   "outputs": [],
   "source": [
    "if __name__ == '__main__':\n",
    "    s=socket.socket()\n",
    "    host='localhost'\n",
    "    port = 5555\n",
    "    s.bind((host,port))\n",
    "    print('listening on port 5555')\n",
    "    s.listen(5)\n",
    "    c,addr=s.accept()\n",
    "    sendData(c)\n",
    "    "
   ]
  },
  {
   "cell_type": "code",
   "execution_count": null,
   "metadata": {},
   "outputs": [],
   "source": []
  }
 ],
 "metadata": {
  "kernelspec": {
   "display_name": "Python 3",
   "language": "python",
   "name": "python3"
  },
  "language_info": {
   "codemirror_mode": {
    "name": "ipython",
    "version": 3
   },
   "file_extension": ".py",
   "mimetype": "text/x-python",
   "name": "python",
   "nbconvert_exporter": "python",
   "pygments_lexer": "ipython3",
   "version": "3.5.2"
  }
 },
 "nbformat": 4,
 "nbformat_minor": 2
}
